{
 "cells": [
  {
   "attachments": {},
   "cell_type": "markdown",
   "metadata": {},
   "source": [
    "# ベイズ更新"
   ]
  },
  {
   "cell_type": "code",
   "execution_count": 2,
   "metadata": {},
   "outputs": [],
   "source": [
    "import matplotlib.pyplot as plt\n",
    "from scipy.stats import bernoulli\n",
    "import numpy as np\n",
    "import pandas as pd\n",
    "%matplotlib inline"
   ]
  },
  {
   "cell_type": "code",
   "execution_count": 3,
   "metadata": {},
   "outputs": [],
   "source": [
    "plt.style.use(\"ggplot\")"
   ]
  },
  {
   "cell_type": "code",
   "execution_count": 4,
   "metadata": {},
   "outputs": [],
   "source": [
    "# parameters\n",
    "p_a = 3.0 / 10.0\n",
    "p_b = 5.0 / 9.0\n",
    "p_prior = 0.5   # 事前分布\n",
    "# 0:blue, 1:red\n",
    "data = [0,1,0,0,1,1,1]"
   ]
  },
  {
   "cell_type": "code",
   "execution_count": 26,
   "metadata": {},
   "outputs": [],
   "source": [
    "N_data = 7  # 更新\n",
    "likehoot_a = bernoulli.pmf(data[:N_data], p_a)  # 尤度\n",
    "likehoot_b = bernoulli.pmf(data[:N_data], p_b)"
   ]
  },
  {
   "cell_type": "code",
   "execution_count": 27,
   "metadata": {},
   "outputs": [
    {
     "data": {
      "text/plain": [
       "array([0.7, 0.3, 0.7, 0.7, 0.3, 0.3, 0.3])"
      ]
     },
     "execution_count": 27,
     "metadata": {},
     "output_type": "execute_result"
    }
   ],
   "source": [
    "likehoot_a"
   ]
  },
  {
   "cell_type": "code",
   "execution_count": 28,
   "metadata": {},
   "outputs": [
    {
     "data": {
      "text/plain": [
       "([<matplotlib.axis.XTick at 0x1680e2cd0>,\n",
       "  <matplotlib.axis.XTick at 0x1680e2ca0>],\n",
       " [Text(0, 0, 'a'), Text(1, 0, 'b')])"
      ]
     },
     "execution_count": 28,
     "metadata": {},
     "output_type": "execute_result"
    },
    {
     "data": {
      "image/png": "[encoded data removed]",
      "text/plain": [
       "<Figure size 432x288 with 1 Axes>"
      ]
     },
     "metadata": {},
     "output_type": "display_data"
    }
   ],
   "source": [
    "pa_posterior = p_prior\n",
    "pb_posterior = p_prior\n",
    "\n",
    "pa_posterior *= np.prod(likehoot_a) # 尤度の積\n",
    "pb_posterior *= np.prod(likehoot_b)\n",
    "\n",
    "norm = pa_posterior + pb_posterior  # 規格化定数\n",
    "\n",
    "df = pd.DataFrame([pa_posterior/norm, pb_posterior/norm], columns=[\"post\"])\n",
    "x = np.arange(df.shape[0])\n",
    "plt.bar(x,df[\"post\"])\n",
    "plt.xticks(x,[\"a\",\"b\"])"
   ]
  },
  {
   "cell_type": "code",
   "execution_count": null,
   "metadata": {},
   "outputs": [],
   "source": []
  }
 ],
 "metadata": {
  "kernelspec": {
   "display_name": "Python 3",
   "language": "python",
   "name": "python3"
  },
  "language_info": {
   "codemirror_mode": {
    "name": "ipython",
    "version": 3
   },
   "file_extension": ".py",
   "mimetype": "text/x-python",
   "name": "python",
   "nbconvert_exporter": "python",
   "pygments_lexer": "ipython3",
   "version": "3.9.13"
  },
  "orig_nbformat": 4,
  "vscode": {
   "interpreter": {
    "hash": "6c9b0ffb6aa08d5b40e874d93e87f0a23a65555e8a8ddea849d970dee77a1894"
   }
  }
 },
 "nbformat": 4,
 "nbformat_minor": 2
}
